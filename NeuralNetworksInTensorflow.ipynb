{
  "nbformat": 4,
  "nbformat_minor": 0,
  "metadata": {
    "colab": {
      "name": "Untitled1.ipynb",
      "provenance": [],
      "authorship_tag": "ABX9TyPKCGZWZBDXxpFRDqf3oHRo",
      "include_colab_link": true
    },
    "kernelspec": {
      "name": "python3",
      "display_name": "Python 3"
    },
    "language_info": {
      "name": "python"
    }
  },
  "cells": [
    {
      "cell_type": "markdown",
      "metadata": {
        "id": "view-in-github",
        "colab_type": "text"
      },
      "source": [
        "<a href=\"https://colab.research.google.com/github/mheidari988/mahsa-ml/blob/main/NeuralNetworksInTensorflow.ipynb\" target=\"_parent\"><img src=\"https://colab.research.google.com/assets/colab-badge.svg\" alt=\"Open In Colab\"/></a>"
      ]
    },
    {
      "cell_type": "code",
      "execution_count": 2,
      "metadata": {
        "id": "ZS0M9w2EuZWC"
      },
      "outputs": [],
      "source": [
        "import math\n",
        "import pandas as pd\n",
        "import tensorflow as tf\n",
        "import matplotlib.pyplot as plt\n",
        "from tensorflow.keras import Model\n",
        "from tensorflow.keras import Sequential\n",
        "from tensorflow.keras.optimizers import Adam\n",
        "from sklearn.preprocessing import StandardScaler\n",
        "from tensorflow.keras.layers import Dense, Dropout\n",
        "from sklearn.model_selection import train_test_split\n",
        "from tensorflow.keras.losses import MeanSquaredLogarithmicError\n",
        "TRAIN_DATA_PATH = '/content/sample_data/california_housing_train.csv'\n",
        "TEST_DATA_PATH = '/content/sample_data/california_housing_test.csv'\n",
        "TARGET_NAME = 'median_house_value'"
      ]
    },
    {
      "cell_type": "code",
      "source": [
        "# x_train = features, y_train = target\n",
        "train_data = pd.read_csv(TRAIN_DATA_PATH)\n",
        "test_data = pd.read_csv(TEST_DATA_PATH)\n",
        "x_train, y_train = train_data.drop(TARGET_NAME, axis=1), train_data[TARGET_NAME]\n",
        "x_test, y_test = test_data.drop(TARGET_NAME, axis=1), test_data[TARGET_NAME]"
      ],
      "metadata": {
        "id": "RLiwmLKqufaV"
      },
      "execution_count": 4,
      "outputs": []
    },
    {
      "cell_type": "code",
      "source": [
        "def scale_datasets(x_train, x_test):\n",
        "\n",
        "  \"\"\"\n",
        "  Standard Scale test and train data\n",
        "  Z - Score normalization\n",
        "  \"\"\"\n",
        "  standard_scaler = StandardScaler()\n",
        "  x_train_scaled = pd.DataFrame(\n",
        "      standard_scaler.fit_transform(x_train),\n",
        "      columns=x_train.columns\n",
        "  )\n",
        "  x_test_scaled = pd.DataFrame(\n",
        "      standard_scaler.transform(x_test),\n",
        "      columns = x_test.columns\n",
        "  )\n",
        "  return x_train_scaled, x_test_scaled\n",
        "x_train_scaled, x_test_scaled = scale_datasets(x_train, x_test)"
      ],
      "metadata": {
        "id": "_ryqX03NuknM"
      },
      "execution_count": 7,
      "outputs": []
    },
    {
      "cell_type": "code",
      "source": [
        "hidden_units1 = 160\n",
        "hidden_units2 = 480\n",
        "hidden_units3 = 256\n",
        "learning_rate = 0.01\n",
        "# Creating model using the Sequential in tensorflow\n",
        "def build_model_using_sequential():\n",
        "  model = Sequential([\n",
        "    Dense(hidden_units1, kernel_initializer='normal', activation='relu'),\n",
        "    Dropout(0.2),\n",
        "    Dense(hidden_units2, kernel_initializer='normal', activation='relu'),\n",
        "    Dropout(0.2),\n",
        "    Dense(hidden_units3, kernel_initializer='normal', activation='relu'),\n",
        "    Dense(1, kernel_initializer='normal', activation='linear')\n",
        "  ])\n",
        "  return model\n",
        "# build the model\n",
        "model = build_model_using_sequential()"
      ],
      "metadata": {
        "id": "KAYWgq6Ku6Q_"
      },
      "execution_count": 8,
      "outputs": []
    },
    {
      "cell_type": "code",
      "source": [
        "# loss function\n",
        "msle = MeanSquaredLogarithmicError()\n",
        "model.compile(\n",
        "    loss=msle, \n",
        "    optimizer=Adam(learning_rate=learning_rate), \n",
        "    metrics=[msle]\n",
        ")\n",
        "# train the model\n",
        "history = model.fit(\n",
        "    x_train_scaled.values, \n",
        "    y_train.values, \n",
        "    epochs=10, \n",
        "    batch_size=64,\n",
        "    validation_split=0.2\n",
        ")"
      ],
      "metadata": {
        "colab": {
          "base_uri": "https://localhost:8080/"
        },
        "id": "GLKrAf_tvS4K",
        "outputId": "9593cb6e-4926-414d-89f3-566b87e576a8"
      },
      "execution_count": 9,
      "outputs": [
        {
          "output_type": "stream",
          "name": "stdout",
          "text": [
            "Epoch 1/10\n",
            "213/213 [==============================] - 5s 13ms/step - loss: 5.3269 - mean_squared_logarithmic_error: 5.3148 - val_loss: 0.7233 - val_mean_squared_logarithmic_error: 0.7164\n",
            "Epoch 2/10\n",
            "213/213 [==============================] - 2s 9ms/step - loss: 0.2601 - mean_squared_logarithmic_error: 0.2601 - val_loss: 0.4069 - val_mean_squared_logarithmic_error: 0.4086\n",
            "Epoch 3/10\n",
            "213/213 [==============================] - 2s 8ms/step - loss: 0.1961 - mean_squared_logarithmic_error: 0.1959 - val_loss: 0.2884 - val_mean_squared_logarithmic_error: 0.2943\n",
            "Epoch 4/10\n",
            "213/213 [==============================] - 2s 8ms/step - loss: 0.1589 - mean_squared_logarithmic_error: 0.1589 - val_loss: 0.2227 - val_mean_squared_logarithmic_error: 0.2300\n",
            "Epoch 5/10\n",
            "213/213 [==============================] - 2s 7ms/step - loss: 0.1339 - mean_squared_logarithmic_error: 0.1338 - val_loss: 0.1760 - val_mean_squared_logarithmic_error: 0.1837\n",
            "Epoch 6/10\n",
            "213/213 [==============================] - 2s 8ms/step - loss: 0.1165 - mean_squared_logarithmic_error: 0.1165 - val_loss: 0.1483 - val_mean_squared_logarithmic_error: 0.1552\n",
            "Epoch 7/10\n",
            "213/213 [==============================] - 2s 8ms/step - loss: 0.1074 - mean_squared_logarithmic_error: 0.1074 - val_loss: 0.1377 - val_mean_squared_logarithmic_error: 0.1452\n",
            "Epoch 8/10\n",
            "213/213 [==============================] - 2s 8ms/step - loss: 0.1029 - mean_squared_logarithmic_error: 0.1029 - val_loss: 0.1272 - val_mean_squared_logarithmic_error: 0.1334\n",
            "Epoch 9/10\n",
            "213/213 [==============================] - 2s 8ms/step - loss: 0.1005 - mean_squared_logarithmic_error: 0.1005 - val_loss: 0.1232 - val_mean_squared_logarithmic_error: 0.1297\n",
            "Epoch 10/10\n",
            "213/213 [==============================] - 2s 8ms/step - loss: 0.0991 - mean_squared_logarithmic_error: 0.0991 - val_loss: 0.1158 - val_mean_squared_logarithmic_error: 0.1216\n"
          ]
        }
      ]
    },
    {
      "cell_type": "code",
      "source": [
        "def plot_history(history, key):\n",
        "  plt.plot(history.history[key])\n",
        "  plt.plot(history.history['val_'+key])\n",
        "  plt.xlabel(\"Epochs\")\n",
        "  plt.ylabel(key)\n",
        "  plt.legend([key, 'val_'+key])\n",
        "  plt.show()\n",
        "# Plot the history\n",
        "plot_history(history, 'mean_squared_logarithmic_error')"
      ],
      "metadata": {
        "colab": {
          "base_uri": "https://localhost:8080/",
          "height": 279
        },
        "id": "dHpvYcHOvXYb",
        "outputId": "5a01df66-8765-4299-b812-36291db96c0e"
      },
      "execution_count": 11,
      "outputs": [
        {
          "output_type": "display_data",
          "data": {
            "text/plain": [
              "<Figure size 432x288 with 1 Axes>"
            ],
            "image/png": "[encoded data removed]"
          },
          "metadata": {
            "needs_background": "light"
          }
        }
      ]
    },
    {
      "cell_type": "code",
      "source": [
        "x_test['prediction'] = model.predict(x_test_scaled)"
      ],
      "metadata": {
        "id": "fWTlnIexvjek"
      },
      "execution_count": 12,
      "outputs": []
    },
    {
      "cell_type": "code",
      "source": [
        ""
      ],
      "metadata": {
        "id": "hL5S4JJ5vmqN"
      },
      "execution_count": null,
      "outputs": []
    }
  ]
}